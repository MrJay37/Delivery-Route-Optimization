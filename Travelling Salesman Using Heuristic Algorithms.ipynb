{
 "cells": [
  {
   "cell_type": "code",
   "execution_count": 3,
   "metadata": {},
   "outputs": [],
   "source": [
    "import numpy as np\n",
    "from scipy.spatial.distance import cdist\n",
    "\n",
    "class TSP:\n",
    "      def __init__(self, cities, seed=42):\n",
    "         np.random.seed(seed)\n",
    "         self.cities = cities\n",
    "         # let's calculate the pairwise distance\n",
    "         self.distance = cdist(cities, cities)\n",
    "         \n",
    "      def calculate_length(self, path):\n",
    "          l = 0.0\n",
    "          for i in range(1, len(path)):\n",
    "             l += self.distance[path[i-1], path[i]]\n",
    "          return l + self.distance[path[-1], path[0]]\n",
    " \n",
    "      def accept(self, T_k, energy_old, energy_new):\n",
    "          delta = energy_new - energy_old\n",
    "          p = np.exp(-delta/T_k)\n",
    "          return p >= np.random.uniform(low=0.0, high=1.0, size=1)[0]\n",
    " \n",
    "      def solve(self, T_0, alpha, max_iter):\n",
    "         T_k = T_0\n",
    "         # let's create an initial solution s0\n",
    "         s = np.random.permutation(len(self.cities))\n",
    "         length_old = self.calculate_length(s)\n",
    "         for i in range(max_iter):\n",
    "             T_k *= alpha\n",
    "             # we randomly choose 2 cities and exchange their positions in the route\n",
    "             pos_1, pos_2 = np.random.choice(len(s), 2, replace=False)\n",
    "             s[pos_1], s[pos_2] = s[pos_2], s[pos_1]\n",
    "             length_new = self.calculate_length(s)\n",
    "             # check if we want to accept the new solution or not\n",
    "             if self.accept(T_k, length_old, length_new):\n",
    "                 # we accept the solution and update the old energy\n",
    "                 length_old = length_new\n",
    "             else:\n",
    "                 # we reject the solution and reverse the switch\n",
    "                 s[pos_1], s[pos_2] = s[pos_2], s[pos_1]\n",
    "         # let's reorder the result\n",
    "         if s[0] == 0:\n",
    "             return s, length_old\n",
    "         start = np.argwhere(s == 0)[0, 0]\n",
    "         return np.hstack((s[start:], s[:start])), length_old\n",
    "         print(s[start:])"
   ]
  },
  {
   "cell_type": "code",
   "execution_count": 4,
   "metadata": {},
   "outputs": [
    {
     "name": "stderr",
     "output_type": "stream",
     "text": [
      "c:\\users\\neelh\\onedrive - stevens.edu\\stevens after arrival\\second sem\\modelling and optimization\\newtsp\\venv\\include\\lib\\site-packages\\ipykernel_launcher.py:19: RuntimeWarning: overflow encountered in exp\n"
     ]
    }
   ],
   "source": [
    "import pandas as pd\n",
    "cities = pd.read_csv( './data/position.csv')\n",
    "cities = list(zip(cities.latitude, cities.longitude))\n",
    "tsp = TSP(cities)\n",
    "arrayFinal = tsp.solve(2000, 0.99, 2000)"
   ]
  },
  {
   "cell_type": "code",
   "execution_count": 5,
   "metadata": {},
   "outputs": [
    {
     "name": "stdout",
     "output_type": "stream",
     "text": [
      "[[0, 12], [12, 7], [7, 11], [11, 16], [16, 3], [3, 8], [8, 6], [6, 21], [21, 2], [2, 17], [17, 15], [15, 22], [22, 5], [5, 1], [1, 4], [4, 20], [20, 9], [9, 10], [10, 14], [14, 19], [19, 23], [23, 13], [13, 18], [18, 0]]\n"
     ]
    }
   ],
   "source": [
    "coordinates =[]\n",
    "for i in range(len(arrayFinal) - 1):\n",
    "        x = arrayFinal[i]\n",
    "for i in range(len(x)-1):\n",
    "    coordinates.append([x[i],x[i+1]])\n",
    "coordinates.append([x[i+1],x[0]])\n",
    "print(coordinates)"
   ]
  },
  {
   "cell_type": "code",
   "execution_count": 6,
   "metadata": {},
   "outputs": [
    {
     "name": "stdout",
     "output_type": "stream",
     "text": [
      "[0, 12, 7, 11, 16, 3, 8, 6, 21, 2, 17, 15, 22, 5, 1, 4, 20, 9, 10, 14, 19, 23, 13, 18] \n",
      " [12, 7, 11, 16, 3, 8, 6, 21, 2, 17, 15, 22, 5, 1, 4, 20, 9, 10, 14, 19, 23, 13, 18, 0]\n"
     ]
    }
   ],
   "source": [
    "x_coordinates = []\n",
    "y_coordinates = []\n",
    "for i in range(len(coordinates)):\n",
    "    x_coordinates.append(coordinates[i][0])\n",
    "    y_coordinates.append(coordinates[i][1])\n",
    "print(x_coordinates,'\\n',y_coordinates)\n",
    "\n"
   ]
  }
 ],
 "metadata": {
  "kernelspec": {
   "display_name": "Python 3",
   "language": "python",
   "name": "python3"
  },
  "language_info": {
   "codemirror_mode": {
    "name": "ipython",
    "version": 3
   },
   "file_extension": ".py",
   "mimetype": "text/x-python",
   "name": "python",
   "nbconvert_exporter": "python",
   "pygments_lexer": "ipython3",
   "version": "3.6.7"
  }
 },
 "nbformat": 4,
 "nbformat_minor": 4
}
